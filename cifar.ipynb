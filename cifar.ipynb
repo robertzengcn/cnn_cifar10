{
  "cells": [
    {
      "cell_type": "code",
      "execution_count": 6,
      "metadata": {
        "colab": {
          "base_uri": "https://localhost:8080/"
        },
        "id": "6QL0H3-nvd4-",
        "outputId": "4a709e35-efa5-4df5-b346-269d464dff0f"
      },
      "outputs": [
        {
          "name": "stdout",
          "output_type": "stream",
          "text": [
            "Looking in indexes: https://download.pytorch.org/whl/cu128\n",
            "Requirement already satisfied: torch in /home/robertzeng/anaconda3/envs/cnn-cifar10/lib/python3.12/site-packages (2.7.1)\n",
            "Requirement already satisfied: torchvision in /home/robertzeng/anaconda3/envs/cnn-cifar10/lib/python3.12/site-packages (0.22.1)\n",
            "Requirement already satisfied: torchaudio in /home/robertzeng/anaconda3/envs/cnn-cifar10/lib/python3.12/site-packages (2.7.1+cu128)\n",
            "Requirement already satisfied: filelock in /home/robertzeng/anaconda3/envs/cnn-cifar10/lib/python3.12/site-packages (from torch) (3.18.0)\n",
            "Requirement already satisfied: typing-extensions>=4.10.0 in /home/robertzeng/anaconda3/envs/cnn-cifar10/lib/python3.12/site-packages (from torch) (4.14.0)\n",
            "Requirement already satisfied: setuptools in /home/robertzeng/anaconda3/envs/cnn-cifar10/lib/python3.12/site-packages (from torch) (78.1.1)\n",
            "Requirement already satisfied: sympy>=1.13.3 in /home/robertzeng/anaconda3/envs/cnn-cifar10/lib/python3.12/site-packages (from torch) (1.14.0)\n",
            "Requirement already satisfied: networkx in /home/robertzeng/anaconda3/envs/cnn-cifar10/lib/python3.12/site-packages (from torch) (3.5)\n",
            "Requirement already satisfied: jinja2 in /home/robertzeng/anaconda3/envs/cnn-cifar10/lib/python3.12/site-packages (from torch) (3.1.6)\n",
            "Requirement already satisfied: fsspec in /home/robertzeng/anaconda3/envs/cnn-cifar10/lib/python3.12/site-packages (from torch) (2025.5.1)\n",
            "Requirement already satisfied: nvidia-cuda-nvrtc-cu12==12.6.77 in /home/robertzeng/anaconda3/envs/cnn-cifar10/lib/python3.12/site-packages (from torch) (12.6.77)\n",
            "Requirement already satisfied: nvidia-cuda-runtime-cu12==12.6.77 in /home/robertzeng/anaconda3/envs/cnn-cifar10/lib/python3.12/site-packages (from torch) (12.6.77)\n",
            "Requirement already satisfied: nvidia-cuda-cupti-cu12==12.6.80 in /home/robertzeng/anaconda3/envs/cnn-cifar10/lib/python3.12/site-packages (from torch) (12.6.80)\n",
            "Requirement already satisfied: nvidia-cudnn-cu12==9.5.1.17 in /home/robertzeng/anaconda3/envs/cnn-cifar10/lib/python3.12/site-packages (from torch) (9.5.1.17)\n",
            "Requirement already satisfied: nvidia-cublas-cu12==12.6.4.1 in /home/robertzeng/anaconda3/envs/cnn-cifar10/lib/python3.12/site-packages (from torch) (12.6.4.1)\n",
            "Requirement already satisfied: nvidia-cufft-cu12==11.3.0.4 in /home/robertzeng/anaconda3/envs/cnn-cifar10/lib/python3.12/site-packages (from torch) (11.3.0.4)\n",
            "Requirement already satisfied: nvidia-curand-cu12==10.3.7.77 in /home/robertzeng/anaconda3/envs/cnn-cifar10/lib/python3.12/site-packages (from torch) (10.3.7.77)\n",
            "Requirement already satisfied: nvidia-cusolver-cu12==11.7.1.2 in /home/robertzeng/anaconda3/envs/cnn-cifar10/lib/python3.12/site-packages (from torch) (11.7.1.2)\n",
            "Requirement already satisfied: nvidia-cusparse-cu12==12.5.4.2 in /home/robertzeng/anaconda3/envs/cnn-cifar10/lib/python3.12/site-packages (from torch) (12.5.4.2)\n",
            "Requirement already satisfied: nvidia-cusparselt-cu12==0.6.3 in /home/robertzeng/anaconda3/envs/cnn-cifar10/lib/python3.12/site-packages (from torch) (0.6.3)\n",
            "Requirement already satisfied: nvidia-nccl-cu12==2.26.2 in /home/robertzeng/anaconda3/envs/cnn-cifar10/lib/python3.12/site-packages (from torch) (2.26.2)\n",
            "Requirement already satisfied: nvidia-nvtx-cu12==12.6.77 in /home/robertzeng/anaconda3/envs/cnn-cifar10/lib/python3.12/site-packages (from torch) (12.6.77)\n",
            "Requirement already satisfied: nvidia-nvjitlink-cu12==12.6.85 in /home/robertzeng/anaconda3/envs/cnn-cifar10/lib/python3.12/site-packages (from torch) (12.6.85)\n",
            "Requirement already satisfied: nvidia-cufile-cu12==1.11.1.6 in /home/robertzeng/anaconda3/envs/cnn-cifar10/lib/python3.12/site-packages (from torch) (1.11.1.6)\n",
            "Requirement already satisfied: triton==3.3.1 in /home/robertzeng/anaconda3/envs/cnn-cifar10/lib/python3.12/site-packages (from torch) (3.3.1)\n",
            "Requirement already satisfied: numpy in /home/robertzeng/anaconda3/envs/cnn-cifar10/lib/python3.12/site-packages (from torchvision) (2.3.1)\n",
            "Requirement already satisfied: pillow!=8.3.*,>=5.3.0 in /home/robertzeng/anaconda3/envs/cnn-cifar10/lib/python3.12/site-packages (from torchvision) (11.3.0)\n",
            "Requirement already satisfied: mpmath<1.4,>=1.1.0 in /home/robertzeng/anaconda3/envs/cnn-cifar10/lib/python3.12/site-packages (from sympy>=1.13.3->torch) (1.3.0)\n",
            "Requirement already satisfied: MarkupSafe>=2.0 in /home/robertzeng/anaconda3/envs/cnn-cifar10/lib/python3.12/site-packages (from jinja2->torch) (3.0.2)\n",
            "Note: you may need to restart the kernel to use updated packages.\n",
            "Requirement already satisfied: matplotlib in /home/robertzeng/anaconda3/envs/cnn-cifar10/lib/python3.12/site-packages (3.10.3)\n",
            "Requirement already satisfied: numpy in /home/robertzeng/anaconda3/envs/cnn-cifar10/lib/python3.12/site-packages (2.3.1)\n",
            "Requirement already satisfied: contourpy>=1.0.1 in /home/robertzeng/anaconda3/envs/cnn-cifar10/lib/python3.12/site-packages (from matplotlib) (1.3.2)\n",
            "Requirement already satisfied: cycler>=0.10 in /home/robertzeng/anaconda3/envs/cnn-cifar10/lib/python3.12/site-packages (from matplotlib) (0.12.1)\n",
            "Requirement already satisfied: fonttools>=4.22.0 in /home/robertzeng/anaconda3/envs/cnn-cifar10/lib/python3.12/site-packages (from matplotlib) (4.58.4)\n",
            "Requirement already satisfied: kiwisolver>=1.3.1 in /home/robertzeng/anaconda3/envs/cnn-cifar10/lib/python3.12/site-packages (from matplotlib) (1.4.8)\n",
            "Requirement already satisfied: packaging>=20.0 in /home/robertzeng/anaconda3/envs/cnn-cifar10/lib/python3.12/site-packages (from matplotlib) (25.0)\n",
            "Requirement already satisfied: pillow>=8 in /home/robertzeng/anaconda3/envs/cnn-cifar10/lib/python3.12/site-packages (from matplotlib) (11.3.0)\n",
            "Requirement already satisfied: pyparsing>=2.3.1 in /home/robertzeng/anaconda3/envs/cnn-cifar10/lib/python3.12/site-packages (from matplotlib) (3.2.3)\n",
            "Requirement already satisfied: python-dateutil>=2.7 in /home/robertzeng/anaconda3/envs/cnn-cifar10/lib/python3.12/site-packages (from matplotlib) (2.9.0.post0)\n",
            "Requirement already satisfied: six>=1.5 in /home/robertzeng/anaconda3/envs/cnn-cifar10/lib/python3.12/site-packages (from python-dateutil>=2.7->matplotlib) (1.17.0)\n",
            "Note: you may need to restart the kernel to use updated packages.\n",
            "Collecting opencv-python\n",
            "  Downloading opencv_python-4.11.0.86-cp37-abi3-manylinux_2_17_x86_64.manylinux2014_x86_64.whl.metadata (20 kB)\n",
            "Collecting opencv-python-headless\n",
            "  Downloading opencv_python_headless-4.11.0.86-cp37-abi3-manylinux_2_17_x86_64.manylinux2014_x86_64.whl.metadata (20 kB)\n",
            "Requirement already satisfied: numpy>=1.21.2 in /home/robertzeng/anaconda3/envs/cnn-cifar10/lib/python3.12/site-packages (from opencv-python) (2.3.1)\n",
            "Downloading opencv_python-4.11.0.86-cp37-abi3-manylinux_2_17_x86_64.manylinux2014_x86_64.whl (63.0 MB)\n",
            "\u001b[2K   \u001b[90m━━━━━━━━━━━━━━━━━━━━━━━━━━━━━━━━━━━━━━━━\u001b[0m \u001b[32m63.0/63.0 MB\u001b[0m \u001b[31m3.5 MB/s\u001b[0m eta \u001b[36m0:00:00\u001b[0m00:01\u001b[0m00:01\u001b[0m\n",
            "\u001b[?25hDownloading opencv_python_headless-4.11.0.86-cp37-abi3-manylinux_2_17_x86_64.manylinux2014_x86_64.whl (50.0 MB)\n",
            "\u001b[2K   \u001b[90m━━━━━━━━━━━━━━━━━━━━━━━━━━━━━━━━━━━━━━━━\u001b[0m \u001b[32m50.0/50.0 MB\u001b[0m \u001b[31m4.9 MB/s\u001b[0m eta \u001b[36m0:00:00\u001b[0m00:01\u001b[0m00:01\u001b[0m\n",
            "\u001b[?25hInstalling collected packages: opencv-python-headless, opencv-python\n",
            "\u001b[2K   \u001b[90m━━━━━━━━━━━━━━━━━━━━━━━━━━━━━━━━━━━━━━━━\u001b[0m \u001b[32m2/2\u001b[0m [opencv-python]0m [opencv-python]\n",
            "\u001b[1A\u001b[2KSuccessfully installed opencv-python-4.11.0.86 opencv-python-headless-4.11.0.86\n",
            "Note: you may need to restart the kernel to use updated packages.\n"
          ]
        }
      ],
      "source": [
        "#download cifar 10 python version\n",
        "%pip install torch torchvision torchaudio --index-url https://download.pytorch.org/whl/cu128\n",
        "%pip install matplotlib numpy\n",
        "%pip install opencv-python opencv-python-headless\n"
      ]
    },
    {
      "cell_type": "code",
      "execution_count": 5,
      "metadata": {
        "id": "CX9nwLrkpIiS"
      },
      "outputs": [
        {
          "ename": "ModuleNotFoundError",
          "evalue": "No module named 'cv2'",
          "output_type": "error",
          "traceback": [
            "\u001b[31m---------------------------------------------------------------------------\u001b[39m",
            "\u001b[31mModuleNotFoundError\u001b[39m                       Traceback (most recent call last)",
            "\u001b[36mCell\u001b[39m\u001b[36m \u001b[39m\u001b[32mIn[5]\u001b[39m\u001b[32m, line 2\u001b[39m\n\u001b[32m      1\u001b[39m \u001b[38;5;28;01mimport\u001b[39;00m\u001b[38;5;250m \u001b[39m\u001b[34;01mnumpy\u001b[39;00m\u001b[38;5;250m \u001b[39m\u001b[38;5;28;01mas\u001b[39;00m\u001b[38;5;250m \u001b[39m\u001b[34;01mnp\u001b[39;00m\n\u001b[32m----> \u001b[39m\u001b[32m2\u001b[39m \u001b[38;5;28;01mimport\u001b[39;00m\u001b[38;5;250m \u001b[39m\u001b[34;01mcv2\u001b[39;00m\n\u001b[32m      3\u001b[39m \u001b[38;5;28;01mfrom\u001b[39;00m\u001b[38;5;250m \u001b[39m\u001b[34;01mgoogle\u001b[39;00m\u001b[34;01m.\u001b[39;00m\u001b[34;01mcolab\u001b[39;00m\u001b[34;01m.\u001b[39;00m\u001b[34;01mpatches\u001b[39;00m\u001b[38;5;250m \u001b[39m\u001b[38;5;28;01mimport\u001b[39;00m cv2_imshow\n",
            "\u001b[31mModuleNotFoundError\u001b[39m: No module named 'cv2'"
          ]
        }
      ],
      "source": [
        "import numpy as np\n",
        "import cv2\n",
        "from google.colab.patches import cv2_imshow"
      ]
    },
    {
      "cell_type": "code",
      "execution_count": null,
      "metadata": {
        "id": "oyV7MQW60mpt"
      },
      "outputs": [],
      "source": [
        "%mkdir dataset"
      ]
    },
    {
      "cell_type": "code",
      "execution_count": null,
      "metadata": {
        "colab": {
          "base_uri": "https://localhost:8080/"
        },
        "id": "96Y9HgR90aFz",
        "outputId": "d3b20150-efc3-4982-d4f1-3a1bcdf03a61"
      },
      "outputs": [],
      "source": [
        "import requests\n",
        "import os\n",
        "import time\n",
        "\n",
        "def download_file_with_progress(url, save_path):\n",
        "    \"\"\"下载文件并显示进度\"\"\"\n",
        "    try:\n",
        "        # 发送HEAD请求获取文件大小\n",
        "        response_head = requests.head(url, allow_redirects=True)\n",
        "        file_size = int(response_head.headers.get('Content-Length', 0))\n",
        "\n",
        "        # 发送GET请求开始下载，stream模式分块读取\n",
        "        response = requests.get(url, stream=True, allow_redirects=True)\n",
        "        response.raise_for_status()  # 检查请求是否成功\n",
        "\n",
        "        # 创建保存目录（如果不存在）\n",
        "        os.makedirs(os.path.dirname(save_path), exist_ok=True)\n",
        "\n",
        "        # 分块写入文件并显示进度\n",
        "        downloaded_size = 0\n",
        "        chunk_size = 8192  # 每次读取8KB\n",
        "        start_time = time.time()\n",
        "\n",
        "        print(f\"开始下载: {url}\")\n",
        "        print(f\"文件大小: {file_size / (1024 * 1024):.2f} MB\")\n",
        "\n",
        "        with open(save_path, 'wb') as f:\n",
        "            for chunk in response.iter_content(chunk_size=chunk_size):\n",
        "                if chunk:\n",
        "                    f.write(chunk)\n",
        "                    downloaded_size += len(chunk)\n",
        "\n",
        "                    # 计算并显示下载进度\n",
        "                    progress = downloaded_size / file_size * 100\n",
        "                    speed = downloaded_size / (time.time() - start_time) / 1024\n",
        "                    print(f\"\\r进度: {progress:.2f}% | 已下载: {downloaded_size / (1024 * 1024):.2f} MB | 速度: {speed:.2f} KB/s\", end='')\n",
        "\n",
        "        print(\"\\n下载完成!\")\n",
        "        return True\n",
        "\n",
        "    except requests.exceptions.RequestException as e:\n",
        "        print(f\"下载失败: {e}\")\n",
        "        return False\n",
        "    except Exception as e:\n",
        "        print(f\"发生错误: {e}\")\n",
        "        return False\n",
        "\n",
        "# 使用示例\n",
        "url = \"https://www.cs.toronto.edu/~kriz/cifar-10-python.tar.gz\"\n",
        "save_path = \"./dataset/cifar-10-python.tar.gz\"  # 自定义保存路径\n",
        "download_file_with_progress(url, save_path)"
      ]
    },
    {
      "cell_type": "code",
      "execution_count": null,
      "metadata": {
        "colab": {
          "base_uri": "https://localhost:8080/"
        },
        "id": "fZkIoAU612I3",
        "outputId": "32e2d8c4-1f11-4c0e-dd69-7a0d98d3b9fb"
      },
      "outputs": [],
      "source": [
        "import tarfile\n",
        "\n",
        "def extract_tar(file_path, extract_dir):\n",
        "    with tarfile.open(file_path, 'r:gz') as tar:\n",
        "        tar.extractall(path=extract_dir)\n",
        "    print(f\"解压完成，文件位于: {extract_dir}\")\n",
        "\n",
        "extract_tar(\"./dataset/cifar-10-python.tar.gz\", \"./cifar10_data/\")"
      ]
    },
    {
      "cell_type": "code",
      "execution_count": null,
      "metadata": {
        "id": "GD89kqwU2VOn"
      },
      "outputs": [],
      "source": [
        "def unpickle(file):\n",
        "    import pickle\n",
        "    with open(file, 'rb') as fo:\n",
        "        dict = pickle.load(fo, encoding='bytes')\n",
        "    return dict"
      ]
    },
    {
      "cell_type": "code",
      "execution_count": null,
      "metadata": {
        "id": "paQ6B9gO2XXP"
      },
      "outputs": [],
      "source": [
        "label_name=[\"airplane\",\n",
        "            \"automobile\",\n",
        "            \"bird\",\n",
        "            \"cat\",\n",
        "            \"deer\",\n",
        "            \"dog\",\n",
        "            \"frog\",\n",
        "            \"horse\",\n",
        "            \"ship\",\n",
        "            \"truck\"\n",
        "            ]"
      ]
    },
    {
      "cell_type": "code",
      "execution_count": null,
      "metadata": {
        "colab": {
          "base_uri": "https://localhost:8080/"
        },
        "id": "ID1Ga_RJ3CGE",
        "outputId": "97551d51-fb80-4175-ccae-77c99e9119e3"
      },
      "outputs": [],
      "source": [
        "import glob\n",
        "train_list=glob.glob(\"/content/cifar10_data/cifar-10-batches-py/data_batch_*\")\n",
        "train_list"
      ]
    },
    {
      "cell_type": "code",
      "execution_count": null,
      "metadata": {
        "colab": {
          "base_uri": "https://localhost:8080/"
        },
        "id": "CBD71xA0vgDY",
        "outputId": "7a5d0bf4-aad1-4cc9-ffa2-556933511ad5"
      },
      "outputs": [],
      "source": [
        "\n",
        "test_list=glob.glob(\"/content/cifar10_data/cifar-10-batches-py/test_batch\")\n",
        "test_list"
      ]
    },
    {
      "cell_type": "code",
      "execution_count": null,
      "metadata": {
        "colab": {
          "base_uri": "https://localhost:8080/"
        },
        "id": "gVj5DEjU3mBE",
        "outputId": "2ed508c8-b917-4053-9af6-40402b9ec79a"
      },
      "outputs": [],
      "source": [
        "for l in train_list:\n",
        "    print(l)\n",
        "    l_dict=unpickle(l)\n",
        "    print(l_dict.keys())\n"
      ]
    },
    {
      "cell_type": "code",
      "execution_count": null,
      "metadata": {
        "id": "cBcWFe7PxXfd"
      },
      "outputs": [],
      "source": [
        "%mkdir ./cifar10_data/TRAIN"
      ]
    },
    {
      "cell_type": "code",
      "execution_count": null,
      "metadata": {
        "colab": {
          "base_uri": "https://localhost:8080/"
        },
        "id": "U2sOs_lskqxw",
        "outputId": "9b1db376-e5c4-4b4c-c3c7-bc31c824c2cd"
      },
      "outputs": [],
      "source": [
        "import os\n",
        "save_path=\"./cifar10_data/TRAIN\"\n",
        "for im_idx,im_data in enumerate(l_dict[b'data']):\n",
        "  # print(im_idx)\n",
        "  # print(im_data)\n",
        "  im_label=l_dict[b'labels'][im_idx]\n",
        "  im_name=l_dict[b'filenames'][im_idx]\n",
        "  # print(im_label)\n",
        "  # print(im_name)\n",
        "  print(im_label,im_name,im_data)\n",
        "  im_label_name=label_name[im_label]\n",
        "  im_data=np.reshape(im_data,[3,32,32])\n",
        "  im_data=np.transpose(im_data,[1,2,0])\n",
        "  # cv2_imshow(im_data,cv2.resize(im_data,(200,200)))\n",
        "\n",
        "  if not os.path.exists(\"{}/{}\".format(save_path,im_label_name)):\n",
        "    os.mkdir(\"{}/{}\".format(save_path,im_label_name))\n",
        "  cv2.imwrite(\"{}/{}/{}\".format(save_path,im_label_name,im_name.decode(\"utf-8\")),im_data)\n"
      ]
    },
    {
      "cell_type": "code",
      "execution_count": null,
      "metadata": {
        "colab": {
          "base_uri": "https://localhost:8080/"
        },
        "id": "DPZDQ-1GwnXG",
        "outputId": "14213ee2-9506-4c34-a2ca-8f5733b9730e"
      },
      "outputs": [],
      "source": [
        "for l in test_list:\n",
        "    print(l)\n",
        "    l_dict_test=unpickle(l)\n",
        "    print(l_dict_test.keys())"
      ]
    },
    {
      "cell_type": "code",
      "execution_count": null,
      "metadata": {
        "colab": {
          "base_uri": "https://localhost:8080/"
        },
        "id": "kFM13cT4v-WL",
        "outputId": "6919aac0-09e6-4933-dfae-06ab83cd50d0"
      },
      "outputs": [],
      "source": [
        "save_path=\"./cifar10_data/TEST\"\n",
        "try:\n",
        "    os.mkdir(save_path)\n",
        "    print(\"Folder %s created!\" % save_path)\n",
        "except FileExistsError:\n",
        "    print(\"Folder %s already exists\" % save_path)\n",
        "for im_idx,im_data in enumerate(l_dict_test[b'data']):\n",
        "  # print(im_idx)\n",
        "  # print(im_data)\n",
        "  im_label=l_dict_test[b'labels'][im_idx]\n",
        "  im_name=l_dict_test[b'filenames'][im_idx]\n",
        "  # print(im_label)\n",
        "  # print(im_name)\n",
        "  print(im_label,im_name,im_data)\n",
        "  im_label_name=label_name[im_label]\n",
        "  im_data=np.reshape(im_data,[3,32,32])\n",
        "  im_data=np.transpose(im_data,[1,2,0])\n",
        "  # cv2_imshow(im_data,cv2.resize(im_data,(200,200)))\n",
        "\n",
        "  if not os.path.exists(\"{}/{}\".format(save_path,im_label_name)):\n",
        "    os.mkdir(\"{}/{}\".format(save_path,im_label_name))\n",
        "  cv2.imwrite(\"{}/{}/{}\".format(save_path,im_label_name,im_name.decode(\"utf-8\")),im_data)"
      ]
    },
    {
      "cell_type": "code",
      "execution_count": null,
      "metadata": {
        "colab": {
          "base_uri": "https://localhost:8080/"
        },
        "id": "cqd-KgFL12m2",
        "outputId": "804df7a3-a8f3-4139-8903-faf80ddb7399"
      },
      "outputs": [],
      "source": [
        "label_dict={}\n",
        "for idx,name in enumerate(label_name):\n",
        "  label_dict[name]=idx\n",
        "label_dict"
      ]
    },
    {
      "cell_type": "code",
      "execution_count": null,
      "metadata": {
        "id": "7bEao3541-mW"
      },
      "outputs": [],
      "source": [
        "def default_loader(path):\n",
        "  return Image.open(path).convert(\"RGB\")"
      ]
    },
    {
      "cell_type": "code",
      "execution_count": null,
      "metadata": {
        "id": "rpy2cIP25yJx"
      },
      "outputs": [],
      "source": [
        "from torchvision import transforms\n",
        "from torch.utils.data import DataLoader,Dataset\n",
        "train_transform=transforms.Compose([\n",
        "    transforms.RandomResizedCrop((28,28)),\n",
        "    transforms.RandomHorizontalFlip(),\n",
        "    transforms.RandomVerticalFlip(90),\n",
        "    transforms.RandomGrayscale(0.1),\n",
        "    transforms.ColorJitter(0.3,0.3,0.3,0.3),\n",
        "    transforms.ToTensor()\n",
        "])"
      ]
    },
    {
      "cell_type": "code",
      "execution_count": null,
      "metadata": {
        "id": "Hq3RPfGkwUMf"
      },
      "outputs": [],
      "source": [
        "\n",
        "class MyDataset(Dataset):\n",
        "  def __init__(self,im_list,transforms=None,loader=default_loader):\n",
        "    super(MyDataset,self).__init__()\n",
        "    imgs=[]\n",
        "    for im_item in im_list:\n",
        "      im_label_name=im_item.split(\"/\")[-2]\n",
        "      imgs.append([im_item,label_dict[im_label_name]])\n",
        "    self.imgs=imgs\n",
        "    self.transforms=transforms\n",
        "    self.loader=loader\n",
        "  def __getitem__(self,index):\n",
        "    im_path,im_label=self.imgs[index]\n",
        "    im_data=self.loader(im_path)\n",
        "    if self.transforms is not null:\n",
        "      im_data=self.transforms(im_data)\n",
        "    return im_data,im_label\n",
        "  def __len__(self):\n",
        "    return len(self.imgs)"
      ]
    },
    {
      "cell_type": "code",
      "execution_count": null,
      "metadata": {
        "id": "tgumhnCVwlvG"
      },
      "outputs": [],
      "source": [
        "im_train_list=glob.glob(\"./cifar10_data/TEST/*/*.png\")\n",
        "im_test_list=glob.glob(\"./cifar10_data/TRAIN/*/*.png\")"
      ]
    },
    {
      "cell_type": "code",
      "execution_count": null,
      "metadata": {
        "id": "M5-TGNDU-N4E"
      },
      "outputs": [],
      "source": [
        "train_dataset=MyDataset(im_train_list,transforms=train_transform)\n",
        "test_dataset=MyDataset(im_train_list,transforms=transforms.ToTensor())"
      ]
    },
    {
      "cell_type": "code",
      "execution_count": null,
      "metadata": {
        "colab": {
          "base_uri": "https://localhost:8080/"
        },
        "id": "WImlubudBL-b",
        "outputId": "b9141862-1d1c-4e49-81dd-0164c0ab0dfb"
      },
      "outputs": [],
      "source": [
        "train_data_loader=DataLoader(dataset=train_dataset,\n",
        "            batch_size=6,\n",
        "            shuffle=True,\n",
        "            num_workers=4)\n",
        "\n",
        "test_data_loader=DataLoader(dataset=test_dataset,\n",
        "            batch_size=6,\n",
        "            shuffle=False,\n",
        "            num_workers=4)\n",
        "\n",
        "print(\"number_of_train\",len(train_dataset))\n",
        "print(\"number_of_test\",len(test_dataset))"
      ]
    },
    {
      "cell_type": "code",
      "execution_count": null,
      "metadata": {
        "id": "M1cekDXU2uRq"
      },
      "outputs": [],
      "source": []
    }
  ],
  "metadata": {
    "accelerator": "GPU",
    "colab": {
      "gpuType": "T4",
      "provenance": []
    },
    "kernelspec": {
      "display_name": "cnn-cifar10",
      "language": "python",
      "name": "python3"
    },
    "language_info": {
      "codemirror_mode": {
        "name": "ipython",
        "version": 3
      },
      "file_extension": ".py",
      "mimetype": "text/x-python",
      "name": "python",
      "nbconvert_exporter": "python",
      "pygments_lexer": "ipython3",
      "version": "3.12.11"
    }
  },
  "nbformat": 4,
  "nbformat_minor": 0
}
