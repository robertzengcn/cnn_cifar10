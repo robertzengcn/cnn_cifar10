{
 "cells": [
  {
   "cell_type": "code",
   "execution_count": 1,
   "id": "1aed8307",
   "metadata": {},
   "outputs": [],
   "source": [
    "import glob\n",
    "import random\n",
    "from torch.utils.data import Dataset"
   ]
  },
  {
   "cell_type": "code",
   "execution_count": 2,
   "id": "a08c16c2",
   "metadata": {},
   "outputs": [],
   "source": [
    "from PIL import Image"
   ]
  },
  {
   "cell_type": "code",
   "execution_count": 3,
   "id": "b7e12eb1",
   "metadata": {},
   "outputs": [],
   "source": [
    "import os"
   ]
  },
  {
   "cell_type": "code",
   "execution_count": null,
   "id": "7d1ab595",
   "metadata": {},
   "outputs": [],
   "source": [
    "import torchvision.transforms as trForms"
   ]
  },
  {
   "cell_type": "code",
   "execution_count": null,
   "id": "9f5813ba",
   "metadata": {},
   "outputs": [],
   "source": [
    "from torch.utils.data import dataloader"
   ]
  },
  {
   "cell_type": "code",
   "execution_count": null,
   "id": "03f26a9a",
   "metadata": {},
   "outputs": [],
   "source": [
    "class ImageDataset(Dataset):\n",
    "    def __init__(self,root=\"\",transform=None,\n",
    "                 model=\"train\"):\n",
    "        self.transform=trForms.Compose(transform)\n",
    "        self.pathA=os.path.join(root,model,\"A/*\")\n",
    "        self.pathB=os.path.join(root,model,\"A/*\")\n",
    "        \n",
    "        self.list_A=glob.golb(self.pathA)\n",
    "        self.list_B=glob.golb(self.pathB)\n",
    "    def __getitem__(self,index):\n",
    "        im_pathA=self.list_A[index % len(self.list_A)]           \n",
    "        im_pathB=random.choice(self.list_B)\n",
    "        im_A=Image.open(im_pathA)\n",
    "        im_B=Image.open(im_pathB)\n",
    "        \n",
    "        item_A=self.transform(im_A)\n",
    "        item_B=self.transform(im_B)\n",
    "    def __len__(self):\n",
    "        return max(len(self.list_A),len(self.list_B))        \n",
    "        \n",
    "if __name__=='__main__':\n",
    "    root=\"datasets/apple2orange\"\n",
    "    transform_=[trForms.Resize(256,Image.BILINEAR),trForms.ToTensor()]\n",
    "    dataloader=dataloader(ImageDataset(root,transform_,\"train\"),\n",
    "                          batch_size=1,\n",
    "                          shuffle=True,\n",
    "                          num_workers=1\n",
    "                          )\n",
    "    for i, batch in enumerate(dataloader):\n",
    "        print(i)\n",
    "        print(batch)\n",
    "    \n",
    "        "
   ]
  },
  {
   "cell_type": "code",
   "execution_count": null,
   "id": "f858ab94",
   "metadata": {},
   "outputs": [],
   "source": []
  }
 ],
 "metadata": {
  "kernelspec": {
   "display_name": "cnn-cifar10",
   "language": "python",
   "name": "python3"
  },
  "language_info": {
   "codemirror_mode": {
    "name": "ipython",
    "version": 3
   },
   "file_extension": ".py",
   "mimetype": "text/x-python",
   "name": "python",
   "nbconvert_exporter": "python",
   "pygments_lexer": "ipython3",
   "version": "3.12.11"
  }
 },
 "nbformat": 4,
 "nbformat_minor": 5
}
