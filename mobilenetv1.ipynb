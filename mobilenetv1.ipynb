{
 "cells": [
  {
   "cell_type": "code",
   "execution_count": 2,
   "id": "c52ce731",
   "metadata": {},
   "outputs": [],
   "source": [
    "import torch\n",
    "import torch.nn as nn\n",
    "import torch.nn.functional as F\n",
    "\n"
   ]
  },
  {
   "cell_type": "code",
   "execution_count": null,
   "id": "9beb7286",
   "metadata": {},
   "outputs": [],
   "source": [
    "class mobilenet(nn.Module):\n",
    "    def __init__(self, *args, **kwargs):\n",
    "        super(mobilenet,self).__init__(*args, **kwargs)\n",
    "        self.conv_1=nn.Sequential(\n",
    "            nn.Conv2d(3,32,kernel_size=3,stride=1,padding=1),\n",
    "            nn.BatchNorm2d(32),\n",
    "            nn.ReLU()\n",
    "        )\n",
    "        self.conv_dw2=self.conv_dw(32,32,1)\n",
    "        self.conv_dw3=self.conv_dw(32,64,2)\n",
    "        \n",
    "        self.conv_dw4=self.conv_dw(64,64,1)\n",
    "        self.conv_dw5=self.conv_dw(64,128,2)\n",
    "        \n",
    "        self.conv_dw6=self.conv_dw(128,128,1)\n",
    "        self.conv_dw7=self.conv_dw(128,256,2)\n",
    "        \n",
    "        self.conv_dw8=self.conv_dw(256,256,1)\n",
    "        self.conv_dw9=self.conv_dw(256,512,2) \n",
    "        \n",
    "        self.fc=nn.Linear(512,10)       \n",
    "        \n",
    "    def forward(self, x):\n",
    "        out=self.conv_1(x)\n",
    "        out=self.conv_dw2(out)\n",
    "        out=self.conv_dw3(out)\n",
    "        out=self.conv_dw4(out)\n",
    "        out=self.conv_dw5(out)\n",
    "        out=self.conv_dw6(out)  \n",
    "        out=self.conv_dw7(out) \n",
    "        out=self.conv_dw8(out) \n",
    "        out=self.conv_dw9(out)   \n",
    "        out=F.avg_pool2d(out,2) \n",
    "        out=out.view(out.size(0),-1)\n",
    "        out=self.fc(out)\n",
    "        return out  \n",
    "    \n",
    "    def conv_dw(self,in_channel,out_channel,stride):\n",
    "        return nn.Sequential(\n",
    "            nn.Conv2d(in_channel,in_channel,kernel_size=3,stride=stride,padding=1,\n",
    "                      groups=in_channel,bias=False),\n",
    "            nn.BatchNorm2d(in_channel),\n",
    "            nn.ReLU(),\n",
    "            nn.Conv2d(in_channel,out_channel,kernel_size=1,stride=1,padding=0,\n",
    "                     bias=False),\n",
    "            nn.BatchNorm2d(out_channel),\n",
    "            nn.ReLU()\n",
    "        )    "
   ]
  },
  {
   "cell_type": "code",
   "execution_count": null,
   "id": "7dd178c3",
   "metadata": {},
   "outputs": [],
   "source": [
    "def mobiilentv1_small():\n",
    "    return mobilenet()"
   ]
  }
 ],
 "metadata": {
  "kernelspec": {
   "display_name": "cnn-cifar10",
   "language": "python",
   "name": "python3"
  },
  "language_info": {
   "codemirror_mode": {
    "name": "ipython",
    "version": 3
   },
   "file_extension": ".py",
   "mimetype": "text/x-python",
   "name": "python",
   "nbconvert_exporter": "python",
   "pygments_lexer": "ipython3",
   "version": "3.12.11"
  }
 },
 "nbformat": 4,
 "nbformat_minor": 5
}
