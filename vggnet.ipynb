{
 "cells": [
  {
   "cell_type": "code",
   "execution_count": null,
   "id": "07be0dfb",
   "metadata": {},
   "outputs": [
    {
     "name": "stdout",
     "output_type": "stream",
     "text": [
      "Looking in indexes: https://download.pytorch.org/whl/cu128\n",
      "Requirement already satisfied: torch in /home/robertzeng/anaconda3/envs/cnn-cifar10/lib/python3.12/site-packages (2.7.1)\n",
      "Requirement already satisfied: torchvision in /home/robertzeng/anaconda3/envs/cnn-cifar10/lib/python3.12/site-packages (0.22.1)\n",
      "Requirement already satisfied: torchaudio in /home/robertzeng/anaconda3/envs/cnn-cifar10/lib/python3.12/site-packages (2.7.1+cu128)\n",
      "Requirement already satisfied: filelock in /home/robertzeng/anaconda3/envs/cnn-cifar10/lib/python3.12/site-packages (from torch) (3.18.0)\n",
      "Requirement already satisfied: typing-extensions>=4.10.0 in /home/robertzeng/anaconda3/envs/cnn-cifar10/lib/python3.12/site-packages (from torch) (4.14.0)\n",
      "Requirement already satisfied: setuptools in /home/robertzeng/anaconda3/envs/cnn-cifar10/lib/python3.12/site-packages (from torch) (78.1.1)\n",
      "Requirement already satisfied: sympy>=1.13.3 in /home/robertzeng/anaconda3/envs/cnn-cifar10/lib/python3.12/site-packages (from torch) (1.14.0)\n",
      "Requirement already satisfied: networkx in /home/robertzeng/anaconda3/envs/cnn-cifar10/lib/python3.12/site-packages (from torch) (3.5)\n",
      "Requirement already satisfied: jinja2 in /home/robertzeng/anaconda3/envs/cnn-cifar10/lib/python3.12/site-packages (from torch) (3.1.6)\n",
      "Requirement already satisfied: fsspec in /home/robertzeng/anaconda3/envs/cnn-cifar10/lib/python3.12/site-packages (from torch) (2025.5.1)\n",
      "Requirement already satisfied: nvidia-cuda-nvrtc-cu12==12.6.77 in /home/robertzeng/anaconda3/envs/cnn-cifar10/lib/python3.12/site-packages (from torch) (12.6.77)\n",
      "Requirement already satisfied: nvidia-cuda-runtime-cu12==12.6.77 in /home/robertzeng/anaconda3/envs/cnn-cifar10/lib/python3.12/site-packages (from torch) (12.6.77)\n",
      "Requirement already satisfied: nvidia-cuda-cupti-cu12==12.6.80 in /home/robertzeng/anaconda3/envs/cnn-cifar10/lib/python3.12/site-packages (from torch) (12.6.80)\n",
      "Requirement already satisfied: nvidia-cudnn-cu12==9.5.1.17 in /home/robertzeng/anaconda3/envs/cnn-cifar10/lib/python3.12/site-packages (from torch) (9.5.1.17)\n",
      "Requirement already satisfied: nvidia-cublas-cu12==12.6.4.1 in /home/robertzeng/anaconda3/envs/cnn-cifar10/lib/python3.12/site-packages (from torch) (12.6.4.1)\n",
      "Requirement already satisfied: nvidia-cufft-cu12==11.3.0.4 in /home/robertzeng/anaconda3/envs/cnn-cifar10/lib/python3.12/site-packages (from torch) (11.3.0.4)\n",
      "Requirement already satisfied: nvidia-curand-cu12==10.3.7.77 in /home/robertzeng/anaconda3/envs/cnn-cifar10/lib/python3.12/site-packages (from torch) (10.3.7.77)\n",
      "Requirement already satisfied: nvidia-cusolver-cu12==11.7.1.2 in /home/robertzeng/anaconda3/envs/cnn-cifar10/lib/python3.12/site-packages (from torch) (11.7.1.2)\n",
      "Requirement already satisfied: nvidia-cusparse-cu12==12.5.4.2 in /home/robertzeng/anaconda3/envs/cnn-cifar10/lib/python3.12/site-packages (from torch) (12.5.4.2)\n",
      "Requirement already satisfied: nvidia-cusparselt-cu12==0.6.3 in /home/robertzeng/anaconda3/envs/cnn-cifar10/lib/python3.12/site-packages (from torch) (0.6.3)\n",
      "Requirement already satisfied: nvidia-nccl-cu12==2.26.2 in /home/robertzeng/anaconda3/envs/cnn-cifar10/lib/python3.12/site-packages (from torch) (2.26.2)\n",
      "Requirement already satisfied: nvidia-nvtx-cu12==12.6.77 in /home/robertzeng/anaconda3/envs/cnn-cifar10/lib/python3.12/site-packages (from torch) (12.6.77)\n",
      "Requirement already satisfied: nvidia-nvjitlink-cu12==12.6.85 in /home/robertzeng/anaconda3/envs/cnn-cifar10/lib/python3.12/site-packages (from torch) (12.6.85)\n",
      "Requirement already satisfied: nvidia-cufile-cu12==1.11.1.6 in /home/robertzeng/anaconda3/envs/cnn-cifar10/lib/python3.12/site-packages (from torch) (1.11.1.6)\n",
      "Requirement already satisfied: triton==3.3.1 in /home/robertzeng/anaconda3/envs/cnn-cifar10/lib/python3.12/site-packages (from torch) (3.3.1)\n",
      "Requirement already satisfied: numpy in /home/robertzeng/anaconda3/envs/cnn-cifar10/lib/python3.12/site-packages (from torchvision) (2.3.1)\n",
      "Requirement already satisfied: pillow!=8.3.*,>=5.3.0 in /home/robertzeng/anaconda3/envs/cnn-cifar10/lib/python3.12/site-packages (from torchvision) (11.3.0)\n",
      "Requirement already satisfied: mpmath<1.4,>=1.1.0 in /home/robertzeng/anaconda3/envs/cnn-cifar10/lib/python3.12/site-packages (from sympy>=1.13.3->torch) (1.3.0)\n",
      "Requirement already satisfied: MarkupSafe>=2.0 in /home/robertzeng/anaconda3/envs/cnn-cifar10/lib/python3.12/site-packages (from jinja2->torch) (3.0.2)\n"
     ]
    }
   ],
   "source": [
    "#%pip install torch torchvision torchaudio --index-url https://download.pytorch.org/whl/cu128"
   ]
  },
  {
   "cell_type": "code",
   "execution_count": 3,
   "id": "72a8c45d",
   "metadata": {},
   "outputs": [],
   "source": [
    "import torch\n",
    "import torch.nn as nn\n",
    "import torch.nn.functional as F"
   ]
  },
  {
   "cell_type": "code",
   "execution_count": null,
   "id": "ca8a019d",
   "metadata": {},
   "outputs": [],
   "source": [
    "class VGGbase(nn.Module):\n",
    "    def __init__(self):\n",
    "        super(VGGbase,self).__init__()\n",
    "        self.conv1=nn.Sequential(\n",
    "            nn.Conv2d(3,64,kernel_size=3,stride=1,padding=1),\n",
    "            nn.BatchNorm2d(64),\n",
    "            nn.ReLU()\n",
    "        )\n",
    "        self.maxpooling1=nn.MaxPool2d(kernel_size=2,stride=2)\n",
    "        self.conv2_1=nn.Sequential(\n",
    "            nn.Conv2d(64,128,kernel_size=3,stride=1,padding=1),\n",
    "            nn.BatchNorm2d(128),\n",
    "            nn.ReLU()\n",
    "        )\n",
    "        self.conv2_2=nn.Sequential(\n",
    "            nn.Conv2d(128,128,kernel_size=3,stride=1,padding=1),\n",
    "            nn.BatchNorm2d(128),\n",
    "            nn.ReLU()\n",
    "        )\n",
    "        self.maxpooling2=nn.MaxPool2d(kernel_size=2,stride=2)\n",
    "        self.conv3_1=nn.Sequential(\n",
    "            nn.Conv2d(128,256,kernel_size=3,stride=1,padding=1),\n",
    "            nn.BatchNorm2d(256),\n",
    "            nn.ReLU()\n",
    "        )\n",
    "        self.conv3_2=nn.Sequential(\n",
    "            nn.Conv2d(256,256,kernel_size=3,stride=1,padding=1),\n",
    "            nn.BatchNorm2d(256),\n",
    "            nn.ReLU()\n",
    "        )\n",
    "        self.maxpooling3=nn.MaxPool2d(kernel_size=2,stride=2,padding=1)\n",
    "        self.conv4_1=nn.Sequential(\n",
    "            nn.Conv2d(256,512,kernel_size=3,stride=1,padding=1),\n",
    "            nn.BatchNorm2d(512),\n",
    "            nn.ReLU()\n",
    "        )\n",
    "        self.conv4_2=nn.Sequential(\n",
    "            nn.Conv2d(512,512,kernel_size=3,stride=1,padding=1),\n",
    "            nn.BatchNorm2d(512),\n",
    "            nn.ReLU()\n",
    "        )\n",
    "        self.maxpooling4=nn.MaxPool2d(kernel_size=2,stride=2)\n",
    "        self.fc=nn.Linear(512*2*2,10)\n",
    "        \n",
    "    def forward(self,x):\n",
    "        batchsize=x.size(0)\n",
    "        out=self.conv1(x)\n",
    "        out=self.maxpooling1(out) \n",
    "        out=self.conv2_1(out)\n",
    "        out=self.conv2_2(out)\n",
    "        out=self.maxpooling2(out)\n",
    "        out=self.conv3_1(out)\n",
    "        out=self.conv3_2(out)\n",
    "        out=self.maxpooling3(out)\n",
    "        out=self.conv4_1(out)\n",
    "        out=self.conv4_2(out)\n",
    "        out=self.maxpooling4(out)\n",
    "        out=out.view(batchsize,-1)\n",
    "        out=self.fc(out)\n",
    "        out=F.log_softmax(out,dim=1)\n",
    "        return out\n",
    "        "
   ]
  },
  {
   "cell_type": "code",
   "execution_count": null,
   "id": "e66c2bca",
   "metadata": {},
   "outputs": [],
   "source": [
    "def VGGNet():\n",
    "    return VGGbase()\n",
    "    "
   ]
  }
 ],
 "metadata": {
  "kernelspec": {
   "display_name": "cnn-cifar10",
   "language": "python",
   "name": "python3"
  },
  "language_info": {
   "codemirror_mode": {
    "name": "ipython",
    "version": 3
   },
   "file_extension": ".py",
   "mimetype": "text/x-python",
   "name": "python",
   "nbconvert_exporter": "python",
   "pygments_lexer": "ipython3",
   "version": "3.12.11"
  }
 },
 "nbformat": 4,
 "nbformat_minor": 5
}
