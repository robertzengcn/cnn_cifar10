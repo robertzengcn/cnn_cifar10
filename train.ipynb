{
 "cells": [
  {
   "cell_type": "code",
   "execution_count": 2,
   "id": "6f548af7",
   "metadata": {},
   "outputs": [
    {
     "name": "stdout",
     "output_type": "stream",
     "text": [
      "Collecting ipynb\n",
      "  Downloading ipynb-0.5.1-py3-none-any.whl.metadata (303 bytes)\n",
      "Downloading ipynb-0.5.1-py3-none-any.whl (6.9 kB)\n",
      "Installing collected packages: ipynb\n",
      "Successfully installed ipynb-0.5.1\n",
      "Note: you may need to restart the kernel to use updated packages.\n"
     ]
    }
   ],
   "source": [
    "#run vggnet clas\n",
    "%pip install ipynb"
   ]
  },
  {
   "cell_type": "code",
   "execution_count": 9,
   "id": "a8159e88",
   "metadata": {},
   "outputs": [],
   "source": [
    "from ipynb.fs.defs.vggnet import VGGNet"
   ]
  },
  {
   "cell_type": "code",
   "execution_count": 12,
   "id": "9bb52fa4",
   "metadata": {},
   "outputs": [
    {
     "ename": "SyntaxError",
     "evalue": "invalid syntax (<unknown>, line 113)",
     "output_type": "error",
     "traceback": [
      "Traceback \u001b[36m(most recent call last)\u001b[39m:\n",
      "  File \u001b[92m~/anaconda3/envs/cnn-cifar10/lib/python3.12/site-packages/IPython/core/interactiveshell.py:3699\u001b[39m in \u001b[95mrun_code\u001b[39m\n    exec(code_obj, self.user_global_ns, self.user_ns)\n",
      "  Cell \u001b[92mIn[12]\u001b[39m\u001b[92m, line 1\u001b[39m\n    from ipynb.fs.defs.cifar import train_data_loader, test_data_loader\n",
      "  File \u001b[92m<frozen importlib._bootstrap>:1360\u001b[39m in \u001b[95m_find_and_load\u001b[39m\n",
      "  File \u001b[92m<frozen importlib._bootstrap>:1331\u001b[39m in \u001b[95m_find_and_load_unlocked\u001b[39m\n",
      "  File \u001b[92m<frozen importlib._bootstrap>:935\u001b[39m in \u001b[95m_load_unlocked\u001b[39m\n",
      "  File \u001b[92m<frozen importlib._bootstrap_external>:995\u001b[39m in \u001b[95mexec_module\u001b[39m\n",
      "  File \u001b[92m~/anaconda3/envs/cnn-cifar10/lib/python3.12/site-packages/ipynb/fs/defs/__init__.py:46\u001b[39m in \u001b[95mget_code\u001b[39m\n    filter_ast(ast.parse(code_from_ipynb(nb))),\n",
      "\u001b[36m  \u001b[39m\u001b[36mFile \u001b[39m\u001b[32m~/anaconda3/envs/cnn-cifar10/lib/python3.12/ast.py:52\u001b[39m\u001b[36m in \u001b[39m\u001b[35mparse\u001b[39m\n\u001b[31m    \u001b[39m\u001b[31mreturn compile(source, filename, mode, flags,\u001b[39m\n",
      "  \u001b[36mFile \u001b[39m\u001b[32m<unknown>:113\u001b[39m\n\u001b[31m    \u001b[39m\u001b[31m%mkdir ./cifar10_data/TRAIN\u001b[39m\n    ^\n\u001b[31mSyntaxError\u001b[39m\u001b[31m:\u001b[39m invalid syntax\n"
     ]
    }
   ],
   "source": [
    "from ipynb.fs.defs.cifar import train_data_loader, test_data_loader "
   ]
  },
  {
   "cell_type": "code",
   "execution_count": null,
   "id": "7a3ff358",
   "metadata": {},
   "outputs": [],
   "source": [
    "import torch\n",
    "import torch.nn as nn\n",
    "import torchvision"
   ]
  }
 ],
 "metadata": {
  "kernelspec": {
   "display_name": "cnn-cifar10",
   "language": "python",
   "name": "python3"
  },
  "language_info": {
   "codemirror_mode": {
    "name": "ipython",
    "version": 3
   },
   "file_extension": ".py",
   "mimetype": "text/x-python",
   "name": "python",
   "nbconvert_exporter": "python",
   "pygments_lexer": "ipython3",
   "version": "3.12.11"
  }
 },
 "nbformat": 4,
 "nbformat_minor": 5
}
